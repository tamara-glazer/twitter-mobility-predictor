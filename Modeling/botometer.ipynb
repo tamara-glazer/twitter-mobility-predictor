{
 "cells": [
  {
   "cell_type": "code",
   "execution_count": 1,
   "metadata": {},
   "outputs": [],
   "source": [
    "import requests, json, numpy, datetime\n",
    "import pywren\n",
    "import boto3\n",
    "import numpy as np\n",
    "import botometer\n",
    "import pandas as pd\n",
    "import botometer_creds as creds\n"
   ]
  },
  {
   "cell_type": "code",
   "execution_count": 2,
   "metadata": {},
   "outputs": [],
   "source": [
    "'''\n",
    "Creates the botometer object used to inspect twitter accounts. \n",
    "'''\n",
    "bot = botometer.Botometer(wait_on_ratelimit=True,\n",
    "                          rapidapi_key=creds.RAPIDAPI_KEY,\n",
    "                          **creds.TWITTER_APP_AUTH)"
   ]
  },
  {
   "cell_type": "code",
   "execution_count": 3,
   "metadata": {},
   "outputs": [],
   "source": [
    "# Grab only the unique user accounts so that we don't calculate bot scores for the same account multiple times\n",
    "all_tweets = pd.read_csv('Data/all_tweets.csv')\n",
    "all_tweets['username'] = '@' + all_tweets['username'].astype(str)\n",
    "accounts = all_tweets['username']\n",
    "accounts_list = list(accounts)"
   ]
  },
  {
   "cell_type": "code",
   "execution_count": 5,
   "metadata": {},
   "outputs": [
    {
     "data": {
      "text/plain": [
       "county         102\n",
       "id          141737\n",
       "username     29602\n",
       "date        139313\n",
       "text        130815\n",
       "dtype: int64"
      ]
     },
     "execution_count": 5,
     "metadata": {},
     "output_type": "execute_result"
    }
   ],
   "source": [
    "all_tweets.nunique()"
   ]
  },
  {
   "cell_type": "code",
   "execution_count": 18,
   "metadata": {},
   "outputs": [],
   "source": [
    "# Grab a sample of users for each county in Illinois\n",
    "sampled_usernames = \\\n",
    "    all_tweets.groupby('county')['username']\\\n",
    "    .apply(lambda x: x.sample(frac=.001))\\\n",
    "    .reset_index()"
   ]
  },
  {
   "cell_type": "code",
   "execution_count": 23,
   "metadata": {},
   "outputs": [],
   "source": [
    "accounts_list = sampled_usernames['username'].unique()"
   ]
  },
  {
   "cell_type": "code",
   "execution_count": 42,
   "metadata": {},
   "outputs": [],
   "source": [
    "# Separate the total number accounts into manageable chunks\n",
    "# Due to rate limits on Twitter's API, we can only make 450 requests per 15 minutes\n",
    "N = 100\n",
    "accounts_chunk = [accounts_list[i * N:(i + 1) * N] for i in range((len(accounts_list) + N - 1) // N)]"
   ]
  },
  {
   "cell_type": "code",
   "execution_count": 32,
   "metadata": {},
   "outputs": [],
   "source": [
    "# calculate Bot scores for lists in a given chunk\n",
    "scores_0 = bot.check_accounts_in(list(accounts_chunk[0]))\n",
    "list_scores_0 = []"
   ]
  },
  {
   "cell_type": "code",
   "execution_count": 33,
   "metadata": {},
   "outputs": [],
   "source": [
    "# for each chunk of account reports, append them to a list\n",
    "for screen_name, result in scores_0:\n",
    "    list_scores_0.append(result)"
   ]
  },
  {
   "cell_type": "code",
   "execution_count": 38,
   "metadata": {},
   "outputs": [],
   "source": [
    "def classify_account(dictionary):\n",
    "    '''\n",
    "    Given a dictionary that represents the botometer output, this function creates a binary\n",
    "        variable indicating wheter or not the account is a bot based on a pre-determined\n",
    "        threshold. \n",
    "    '''\n",
    "    \n",
    "    user_info = dictionary['user']\n",
    "    name = user_info['screen_name']\n",
    "    score = dictionary['scores']['english']\n",
    "    bot = 0\n",
    "    if score >= .29:\n",
    "        bot += 1\n",
    "    \n",
    "    return {'account_name': name, 'bot': bot}\n",
    "    \n",
    "    "
   ]
  },
  {
   "cell_type": "code",
   "execution_count": 39,
   "metadata": {},
   "outputs": [
    {
     "name": "stdout",
     "output_type": "stream",
     "text": [
      "CPU times: user 5.44 s, sys: 1.36 s, total: 6.79 s\n",
      "Wall time: 26.4 s\n"
     ]
    }
   ],
   "source": [
    "%%time\n",
    "\n",
    "pwex = pywren.default_executor()\n",
    "futures = pwex.map(classify_account, list_scores_0)\n",
    "bot_or_not = pywren.get_all_results(futures)"
   ]
  },
  {
   "cell_type": "code",
   "execution_count": 40,
   "metadata": {},
   "outputs": [
    {
     "data": {
      "text/plain": [
       "[{'account_name': 'jniffen', 'bot': 0},\n",
       " {'account_name': 'JermaineKnaff', 'bot': 0},\n",
       " {'account_name': 'TATKulisch', 'bot': 1},\n",
       " {'account_name': 'gbaction1', 'bot': 0},\n",
       " {'account_name': 'JohnRAbell1', 'bot': 0},\n",
       " {'account_name': 'BHSBUCletics', 'bot': 1},\n",
       " {'account_name': 'itsReeseWhitney', 'bot': 0},\n",
       " {'account_name': 'ShellshockNet', 'bot': 0},\n",
       " {'account_name': 'PBHenkelman', 'bot': 1},\n",
       " {'account_name': 'DashDeCosta', 'bot': 0},\n",
       " {'account_name': 'ColecaTheGreat', 'bot': 0},\n",
       " {'account_name': 'NETFLIXnUGGET', 'bot': 0},\n",
       " {'account_name': 'Puzzlequeer', 'bot': 0},\n",
       " {'account_name': 'corryn_brock', 'bot': 0},\n",
       " {'account_name': '4HWFan1989', 'bot': 0},\n",
       " {'account_name': 'EIUWBB', 'bot': 0},\n",
       " {'account_name': 'illinidiva12', 'bot': 0},\n",
       " {'account_name': 'Janpack00', 'bot': 0},\n",
       " {'account_name': 'cottonwood100', 'bot': 1},\n",
       " {'account_name': 'NYARK0AA', 'bot': 0},\n",
       " {'account_name': 'mdcichy', 'bot': 1},\n",
       " {'account_name': 'RJohnson69', 'bot': 0},\n",
       " {'account_name': 'JacksonJennings', 'bot': 0},\n",
       " {'account_name': 'ImJustNuru', 'bot': 0},\n",
       " {'account_name': 'metricalfoot', 'bot': 0},\n",
       " {'account_name': 'rokorumora', 'bot': 0},\n",
       " {'account_name': 'jjdonkey', 'bot': 0},\n",
       " {'account_name': 'jac_ayyy', 'bot': 0},\n",
       " {'account_name': 'BrainCoach333', 'bot': 0},\n",
       " {'account_name': 'vashon_photo', 'bot': 0},\n",
       " {'account_name': 'desireangelita', 'bot': 0},\n",
       " {'account_name': 'trafficjamjen', 'bot': 0},\n",
       " {'account_name': 'MoonaBruja', 'bot': 0},\n",
       " {'account_name': 'Staceisaheyname', 'bot': 0},\n",
       " {'account_name': 'GamalMahdaly', 'bot': 0},\n",
       " {'account_name': 'B82Scottie', 'bot': 0},\n",
       " {'account_name': 'RHSADBrookman', 'bot': 1},\n",
       " {'account_name': 'JT_2309', 'bot': 0},\n",
       " {'account_name': 'edvydas', 'bot': 0},\n",
       " {'account_name': 'natebirr', 'bot': 0},\n",
       " {'account_name': 'afiscus4', 'bot': 0},\n",
       " {'account_name': 'bbculp', 'bot': 0},\n",
       " {'account_name': 'WinWithWinslow', 'bot': 0},\n",
       " {'account_name': 'Bigaus56', 'bot': 0},\n",
       " {'account_name': 'barretta44', 'bot': 0},\n",
       " {'account_name': 'cybulski_george', 'bot': 1},\n",
       " {'account_name': 'fatherhoodforty', 'bot': 0},\n",
       " {'account_name': 'shonkori', 'bot': 0},\n",
       " {'account_name': 'ScottGeisler12', 'bot': 0},\n",
       " {'account_name': 'PTEbyRob', 'bot': 1},\n",
       " {'account_name': 'stephenjstephe5', 'bot': 1},\n",
       " {'account_name': 'PsyrisD', 'bot': 0},\n",
       " {'account_name': 'Markitan8dude', 'bot': 0},\n",
       " {'account_name': 'kristingourlay', 'bot': 0},\n",
       " {'account_name': 'GabrielMoralesB', 'bot': 0},\n",
       " {'account_name': '_jane812', 'bot': 0},\n",
       " {'account_name': 'repkingtrep33', 'bot': 0},\n",
       " {'account_name': 'DixieHa52361381', 'bot': 0},\n",
       " {'account_name': 'derick8221', 'bot': 1},\n",
       " {'account_name': 'ConstanceLyon7', 'bot': 1},\n",
       " {'account_name': 'YungJillien', 'bot': 0},\n",
       " {'account_name': 'Marley__Monroe', 'bot': 0},\n",
       " {'account_name': 'TallGorl', 'bot': 0},\n",
       " {'account_name': 'iammbmore', 'bot': 1},\n",
       " {'account_name': 'MollyNotEcstasy', 'bot': 0},\n",
       " {'account_name': 'dayadiaadiyaa', 'bot': 0},\n",
       " {'account_name': 'SharonHelzer8', 'bot': 0},\n",
       " {'account_name': 'hemantmehta', 'bot': 0},\n",
       " {'account_name': 'c_hansen84', 'bot': 0},\n",
       " {'account_name': 'notericaroberts', 'bot': 0},\n",
       " {'account_name': 'AuroraU', 'bot': 0},\n",
       " {'account_name': 'aimone35', 'bot': 0},\n",
       " {'account_name': 'EricHeatEsparza', 'bot': 0},\n",
       " {'account_name': 'boNiTA_RiTA_', 'bot': 0},\n",
       " {'account_name': 'minniemonoso', 'bot': 0},\n",
       " {'account_name': 'Iamvick', 'bot': 0},\n",
       " {'account_name': 'Bulls_1177', 'bot': 0},\n",
       " {'account_name': 'steph442010', 'bot': 0},\n",
       " {'account_name': 'traceyakenney', 'bot': 0},\n",
       " {'account_name': 'JustinHDavidson', 'bot': 0},\n",
       " {'account_name': 'ncowan09', 'bot': 0},\n",
       " {'account_name': 'HarrietTheAngel', 'bot': 1},\n",
       " {'account_name': 'MiseryGoddess', 'bot': 0},\n",
       " {'account_name': 'barbiebrox', 'bot': 0},\n",
       " {'account_name': 'RobertJReynold3', 'bot': 1},\n",
       " {'account_name': 'jwarnecke0', 'bot': 0},\n",
       " {'account_name': 'daven_md', 'bot': 0},\n",
       " {'account_name': 'izzie511', 'bot': 1},\n",
       " {'account_name': 'Gerard0em', 'bot': 0},\n",
       " {'account_name': 'gabrieladevela', 'bot': 0},\n",
       " {'account_name': 'PeggyLawson3', 'bot': 0},\n",
       " {'account_name': 'jgrundler84', 'bot': 0},\n",
       " {'account_name': 'Isa_97_19', 'bot': 0},\n",
       " {'account_name': 'BrianFlake68', 'bot': 1},\n",
       " {'account_name': 'WANDTVDoug', 'bot': 0},\n",
       " {'account_name': 'taraprindiville', 'bot': 0},\n",
       " {'account_name': 'STLprog', 'bot': 0},\n",
       " {'account_name': 'ToyaruthDiva', 'bot': 0},\n",
       " {'account_name': 'RealYeshua1', 'bot': 0},\n",
       " {'account_name': 'badgalmiya', 'bot': 0}]"
      ]
     },
     "execution_count": 40,
     "metadata": {},
     "output_type": "execute_result"
    }
   ],
   "source": [
    "bot_or_not"
   ]
  },
  {
   "cell_type": "code",
   "execution_count": 41,
   "metadata": {},
   "outputs": [
    {
     "data": {
      "text/html": [
       "<div>\n",
       "<style scoped>\n",
       "    .dataframe tbody tr th:only-of-type {\n",
       "        vertical-align: middle;\n",
       "    }\n",
       "\n",
       "    .dataframe tbody tr th {\n",
       "        vertical-align: top;\n",
       "    }\n",
       "\n",
       "    .dataframe thead th {\n",
       "        text-align: right;\n",
       "    }\n",
       "</style>\n",
       "<table border=\"1\" class=\"dataframe\">\n",
       "  <thead>\n",
       "    <tr style=\"text-align: right;\">\n",
       "      <th></th>\n",
       "      <th>account_name</th>\n",
       "      <th>bot</th>\n",
       "    </tr>\n",
       "  </thead>\n",
       "  <tbody>\n",
       "    <tr>\n",
       "      <th>0</th>\n",
       "      <td>jniffen</td>\n",
       "      <td>0</td>\n",
       "    </tr>\n",
       "    <tr>\n",
       "      <th>1</th>\n",
       "      <td>JermaineKnaff</td>\n",
       "      <td>0</td>\n",
       "    </tr>\n",
       "    <tr>\n",
       "      <th>2</th>\n",
       "      <td>TATKulisch</td>\n",
       "      <td>1</td>\n",
       "    </tr>\n",
       "    <tr>\n",
       "      <th>3</th>\n",
       "      <td>gbaction1</td>\n",
       "      <td>0</td>\n",
       "    </tr>\n",
       "    <tr>\n",
       "      <th>4</th>\n",
       "      <td>JohnRAbell1</td>\n",
       "      <td>0</td>\n",
       "    </tr>\n",
       "    <tr>\n",
       "      <th>...</th>\n",
       "      <td>...</td>\n",
       "      <td>...</td>\n",
       "    </tr>\n",
       "    <tr>\n",
       "      <th>95</th>\n",
       "      <td>taraprindiville</td>\n",
       "      <td>0</td>\n",
       "    </tr>\n",
       "    <tr>\n",
       "      <th>96</th>\n",
       "      <td>STLprog</td>\n",
       "      <td>0</td>\n",
       "    </tr>\n",
       "    <tr>\n",
       "      <th>97</th>\n",
       "      <td>ToyaruthDiva</td>\n",
       "      <td>0</td>\n",
       "    </tr>\n",
       "    <tr>\n",
       "      <th>98</th>\n",
       "      <td>RealYeshua1</td>\n",
       "      <td>0</td>\n",
       "    </tr>\n",
       "    <tr>\n",
       "      <th>99</th>\n",
       "      <td>badgalmiya</td>\n",
       "      <td>0</td>\n",
       "    </tr>\n",
       "  </tbody>\n",
       "</table>\n",
       "<p>100 rows × 2 columns</p>\n",
       "</div>"
      ],
      "text/plain": [
       "       account_name  bot\n",
       "0           jniffen    0\n",
       "1     JermaineKnaff    0\n",
       "2        TATKulisch    1\n",
       "3         gbaction1    0\n",
       "4       JohnRAbell1    0\n",
       "..              ...  ...\n",
       "95  taraprindiville    0\n",
       "96          STLprog    0\n",
       "97     ToyaruthDiva    0\n",
       "98      RealYeshua1    0\n",
       "99       badgalmiya    0\n",
       "\n",
       "[100 rows x 2 columns]"
      ]
     },
     "execution_count": 41,
     "metadata": {},
     "output_type": "execute_result"
    }
   ],
   "source": [
    "pd.DataFrame(bot_or_not)"
   ]
  },
  {
   "cell_type": "code",
   "execution_count": null,
   "metadata": {},
   "outputs": [],
   "source": []
  }
 ],
 "metadata": {
  "hide_input": false,
  "kernelspec": {
   "display_name": "Python 3",
   "language": "python",
   "name": "python3"
  },
  "language_info": {
   "codemirror_mode": {
    "name": "ipython",
    "version": 3
   },
   "file_extension": ".py",
   "mimetype": "text/x-python",
   "name": "python",
   "nbconvert_exporter": "python",
   "pygments_lexer": "ipython3",
   "version": "3.7.4"
  }
 },
 "nbformat": 4,
 "nbformat_minor": 4
}
