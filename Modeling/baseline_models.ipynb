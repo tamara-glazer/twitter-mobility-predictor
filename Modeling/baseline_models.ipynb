{
  "nbformat": 4,
  "nbformat_minor": 0,
  "metadata": {
    "colab": {
      "name": "baseline_models.ipynb",
      "provenance": [],
      "collapsed_sections": []
    },
    "kernelspec": {
      "name": "python3",
      "display_name": "Python 3"
    }
  },
  "cells": [
    {
      "cell_type": "code",
      "metadata": {
        "id": "VAiHdHGnOSk4",
        "colab_type": "code",
        "colab": {}
      },
      "source": [
        "import pandas as pd\n",
        "import numpy as np\n",
        "import pipeline as ppl\n",
        "\n",
        "from sklearn.linear_model import LogisticRegression, LogisticRegressionCV\n",
        "from sklearn.preprocessing import StandardScaler\n",
        "from sklearn.pipeline import Pipeline\n",
        "from sklearn.model_selection import train_test_split\n",
        "from sklearn.ensemble import RandomForestClassifier\n",
        "\n",
        "import matplotlib.pyplot as plt\n",
        "%matplotlib inline"
      ],
      "execution_count": 0,
      "outputs": []
    },
    {
      "cell_type": "code",
      "metadata": {
        "id": "sLGsJEfQPcen",
        "colab_type": "code",
        "colab": {
          "base_uri": "https://localhost:8080/",
          "height": 299
        },
        "outputId": "8ed79171-51ed-4336-d256-5e742d59d3ee"
      },
      "source": [
        "#################\n",
        "# STEP ONE\n",
        "# Import & clean\n",
        "#################\n",
        "# Load the cleaned, merged dataframe with targets and predictors\n",
        "df = pd.read_csv('clean_merged_with_outcome.csv', dtype={'tmin':'float64', 'tmax':'float64', 'precip':'float64'})\n",
        "\n",
        "# Drop and rename columns as appropriate\n",
        "df.drop(columns=['Unnamed: 0', 'grade_distance', 'county_republican'], inplace=True)\n",
        "df.rename(columns={'county.x':'county'}, inplace=True)\n",
        "df['school_closure'].fillna(0, inplace=True)\n",
        "df.head(5)"
      ],
      "execution_count": 2,
      "outputs": [
        {
          "output_type": "execute_result",
          "data": {
            "text/html": [
              "<div>\n",
              "<style scoped>\n",
              "    .dataframe tbody tr th:only-of-type {\n",
              "        vertical-align: middle;\n",
              "    }\n",
              "\n",
              "    .dataframe tbody tr th {\n",
              "        vertical-align: top;\n",
              "    }\n",
              "\n",
              "    .dataframe thead th {\n",
              "        text-align: right;\n",
              "    }\n",
              "</style>\n",
              "<table border=\"1\" class=\"dataframe\">\n",
              "  <thead>\n",
              "    <tr style=\"text-align: right;\">\n",
              "      <th></th>\n",
              "      <th>county</th>\n",
              "      <th>date</th>\n",
              "      <th>device_count</th>\n",
              "      <th>devices_leaving_home</th>\n",
              "      <th>median_home_dwell_time</th>\n",
              "      <th>median_non_home_dwell_time</th>\n",
              "      <th>share_asian</th>\n",
              "      <th>share_black</th>\n",
              "      <th>share_white</th>\n",
              "      <th>share_hhinc_100k</th>\n",
              "      <th>share_poverty</th>\n",
              "      <th>share_public_transit</th>\n",
              "      <th>precip</th>\n",
              "      <th>tmin</th>\n",
              "      <th>tmax</th>\n",
              "      <th>county_sip</th>\n",
              "      <th>popestimate2019</th>\n",
              "      <th>cases</th>\n",
              "      <th>deaths</th>\n",
              "      <th>share_over_65</th>\n",
              "      <th>trump_vote_share</th>\n",
              "      <th>school_closure</th>\n",
              "      <th>outcome</th>\n",
              "    </tr>\n",
              "  </thead>\n",
              "  <tbody>\n",
              "    <tr>\n",
              "      <th>0</th>\n",
              "      <td>Adams County</td>\n",
              "      <td>2020-02-24</td>\n",
              "      <td>4923</td>\n",
              "      <td>3880</td>\n",
              "      <td>625.030875</td>\n",
              "      <td>234.736137</td>\n",
              "      <td>0.008033</td>\n",
              "      <td>0.038225</td>\n",
              "      <td>0.936713</td>\n",
              "      <td>0.056879</td>\n",
              "      <td>0.127221</td>\n",
              "      <td>0.004944</td>\n",
              "      <td>10.529861</td>\n",
              "      <td>35.69000</td>\n",
              "      <td>44.14000</td>\n",
              "      <td>0</td>\n",
              "      <td>65435</td>\n",
              "      <td>0</td>\n",
              "      <td>0</td>\n",
              "      <td>0.186142</td>\n",
              "      <td>0.71328</td>\n",
              "      <td>0</td>\n",
              "      <td>0</td>\n",
              "    </tr>\n",
              "    <tr>\n",
              "      <th>1</th>\n",
              "      <td>Adams County</td>\n",
              "      <td>2020-02-25</td>\n",
              "      <td>5066</td>\n",
              "      <td>3205</td>\n",
              "      <td>541.262732</td>\n",
              "      <td>82.713383</td>\n",
              "      <td>0.008033</td>\n",
              "      <td>0.038225</td>\n",
              "      <td>0.936713</td>\n",
              "      <td>0.056879</td>\n",
              "      <td>0.127221</td>\n",
              "      <td>0.004944</td>\n",
              "      <td>3.954861</td>\n",
              "      <td>31.49750</td>\n",
              "      <td>39.63500</td>\n",
              "      <td>0</td>\n",
              "      <td>65435</td>\n",
              "      <td>0</td>\n",
              "      <td>0</td>\n",
              "      <td>0.186142</td>\n",
              "      <td>0.71328</td>\n",
              "      <td>0</td>\n",
              "      <td>0</td>\n",
              "    </tr>\n",
              "    <tr>\n",
              "      <th>2</th>\n",
              "      <td>Adams County</td>\n",
              "      <td>2020-02-26</td>\n",
              "      <td>5280</td>\n",
              "      <td>4015</td>\n",
              "      <td>632.286553</td>\n",
              "      <td>159.362500</td>\n",
              "      <td>0.008033</td>\n",
              "      <td>0.038225</td>\n",
              "      <td>0.936713</td>\n",
              "      <td>0.056879</td>\n",
              "      <td>0.127221</td>\n",
              "      <td>0.004944</td>\n",
              "      <td>0.076389</td>\n",
              "      <td>25.47125</td>\n",
              "      <td>37.38000</td>\n",
              "      <td>0</td>\n",
              "      <td>65435</td>\n",
              "      <td>0</td>\n",
              "      <td>0</td>\n",
              "      <td>0.186142</td>\n",
              "      <td>0.71328</td>\n",
              "      <td>0</td>\n",
              "      <td>0</td>\n",
              "    </tr>\n",
              "    <tr>\n",
              "      <th>3</th>\n",
              "      <td>Adams County</td>\n",
              "      <td>2020-02-27</td>\n",
              "      <td>4921</td>\n",
              "      <td>4009</td>\n",
              "      <td>603.847389</td>\n",
              "      <td>261.916684</td>\n",
              "      <td>0.008033</td>\n",
              "      <td>0.038225</td>\n",
              "      <td>0.936713</td>\n",
              "      <td>0.056879</td>\n",
              "      <td>0.127221</td>\n",
              "      <td>0.004944</td>\n",
              "      <td>0.000000</td>\n",
              "      <td>27.27000</td>\n",
              "      <td>43.55125</td>\n",
              "      <td>0</td>\n",
              "      <td>65435</td>\n",
              "      <td>0</td>\n",
              "      <td>0</td>\n",
              "      <td>0.186142</td>\n",
              "      <td>0.71328</td>\n",
              "      <td>0</td>\n",
              "      <td>0</td>\n",
              "    </tr>\n",
              "    <tr>\n",
              "      <th>4</th>\n",
              "      <td>Adams County</td>\n",
              "      <td>2020-02-28</td>\n",
              "      <td>4652</td>\n",
              "      <td>3797</td>\n",
              "      <td>545.289123</td>\n",
              "      <td>288.255374</td>\n",
              "      <td>0.008033</td>\n",
              "      <td>0.038225</td>\n",
              "      <td>0.936713</td>\n",
              "      <td>0.056879</td>\n",
              "      <td>0.127221</td>\n",
              "      <td>0.004944</td>\n",
              "      <td>0.000000</td>\n",
              "      <td>22.51875</td>\n",
              "      <td>43.09500</td>\n",
              "      <td>0</td>\n",
              "      <td>65435</td>\n",
              "      <td>0</td>\n",
              "      <td>0</td>\n",
              "      <td>0.186142</td>\n",
              "      <td>0.71328</td>\n",
              "      <td>0</td>\n",
              "      <td>0</td>\n",
              "    </tr>\n",
              "  </tbody>\n",
              "</table>\n",
              "</div>"
            ],
            "text/plain": [
              "         county        date  ...  school_closure  outcome\n",
              "0  Adams County  2020-02-24  ...               0        0\n",
              "1  Adams County  2020-02-25  ...               0        0\n",
              "2  Adams County  2020-02-26  ...               0        0\n",
              "3  Adams County  2020-02-27  ...               0        0\n",
              "4  Adams County  2020-02-28  ...               0        0\n",
              "\n",
              "[5 rows x 23 columns]"
            ]
          },
          "metadata": {
            "tags": []
          },
          "execution_count": 2
        }
      ]
    },
    {
      "cell_type": "code",
      "metadata": {
        "id": "PSGyPx4xU7aK",
        "colab_type": "code",
        "colab": {}
      },
      "source": [
        "#################\n",
        "# STEP TWO\n",
        "# Feature extraction\n",
        "#################\n",
        "features = list(df.columns[0:1]) + list(df.columns)[2:-1]\n",
        "target = list(df.columns)[-1]"
      ],
      "execution_count": 0,
      "outputs": []
    },
    {
      "cell_type": "code",
      "metadata": {
        "id": "TXBmyYHrXLMM",
        "colab_type": "code",
        "colab": {}
      },
      "source": [
        "# Use pipeline function to generate train-test split\n",
        "X_train, X_test, y_train, y_test = ppl.create_random_splits(df, features, target, .2)"
      ],
      "execution_count": 0,
      "outputs": []
    },
    {
      "cell_type": "code",
      "metadata": {
        "id": "34-T1_ysXLJj",
        "colab_type": "code",
        "colab": {}
      },
      "source": [
        "# Dummify the county variables in train and test\n",
        "county_dummies = pd.get_dummies(X_train['county'])\n",
        "X_train_full = pd.concat([county_dummies.reset_index(drop=True), X_train.drop(columns=['county'], inplace=True)])\n",
        "county_dummies_test = pd.get_dummies(X_test['county'])\n",
        "X_test_full = pd.concat([county_dummies_test.reset_index(drop=True), X_test.drop(columns=['county'], inplace=True)])"
      ],
      "execution_count": 0,
      "outputs": []
    },
    {
      "cell_type": "code",
      "metadata": {
        "id": "4fUdoyzbT0nb",
        "colab_type": "code",
        "colab": {}
      },
      "source": [
        "#################\n",
        "# STEP THREE\n",
        "# Simple model training\n",
        "#################\n",
        "# Set up pipeline object for model 1 - logistic regression\n",
        "penalty='l2'\n",
        "C = 10\n",
        "solver='lbfgs'\n",
        "\n",
        "pipeline = Pipeline([\n",
        "    ('norm', StandardScaler()),\n",
        "    ('logr', LogisticRegression(penalty=penalty, \n",
        "                                C=C,\n",
        "                                solver=solver))\n",
        "])"
      ],
      "execution_count": 0,
      "outputs": []
    },
    {
      "cell_type": "code",
      "metadata": {
        "id": "htWBK65zia9P",
        "colab_type": "code",
        "colab": {}
      },
      "source": [
        "# Fit the pipeline object for model 1\n",
        "pipeline.fit(X_train_full,y_train)\n",
        "line = pipeline.predict_proba(X_test_full)[:,1]"
      ],
      "execution_count": 0,
      "outputs": []
    },
    {
      "cell_type": "code",
      "metadata": {
        "id": "Knaz64p1ilD0",
        "colab_type": "code",
        "colab": {
          "base_uri": "https://localhost:8080/",
          "height": 34
        },
        "outputId": "85b995a5-84ea-400c-cf74-ca375ce5130a"
      },
      "source": [
        "# Calculate predictive performance (accuracy) for model 1 - logistic regression\n",
        "predictions = [1 if x > .5 else 0 for x in line]\n",
        "actuals = list(y_test)\n",
        "accuracy = []\n",
        "for pred, act in zip(predictions, actuals):\n",
        "  if pred == act:\n",
        "    accuracy.append(1)\n",
        "  else:\n",
        "    accuracy.append(0)\n",
        "print(\"Prediction accuracy for logistic regression without tweets is\", round(100*sum(accuracy)/len(accuracy),2), \"%\")"
      ],
      "execution_count": 8,
      "outputs": [
        {
          "output_type": "stream",
          "text": [
            "Prediction accuracy for logistic regression without tweets is 86.76 %\n"
          ],
          "name": "stdout"
        }
      ]
    },
    {
      "cell_type": "code",
      "metadata": {
        "id": "naddQsoOkSYd",
        "colab_type": "code",
        "colab": {}
      },
      "source": [
        "# Set up pipeline object for model 2 - random forest\n",
        "random_state = 0\n",
        "n_jobs = -1\n",
        "n_estimators = 100\n",
        "class_weight = 'balanced'\n",
        "\n",
        "pipeline2 = Pipeline([\n",
        "    ('norm', StandardScaler()),\n",
        "    ('rf', RandomForestClassifier(random_state=random_state,\n",
        "                                  n_jobs = n_jobs,\n",
        "                                  n_estimators = n_estimators,\n",
        "                                  class_weight = class_weight))])"
      ],
      "execution_count": 0,
      "outputs": []
    },
    {
      "cell_type": "code",
      "metadata": {
        "id": "hrO5Vw5YkpPw",
        "colab_type": "code",
        "colab": {}
      },
      "source": [
        "# Fit the pipeline object for model 1\n",
        "pipeline2.fit(X_train_full,y_train)\n",
        "line = pipeline2.predict_proba(X_test_full)[:,1]"
      ],
      "execution_count": 0,
      "outputs": []
    },
    {
      "cell_type": "code",
      "metadata": {
        "id": "gBHEn2ork0Xp",
        "colab_type": "code",
        "colab": {
          "base_uri": "https://localhost:8080/",
          "height": 34
        },
        "outputId": "65f480b5-d885-4c2b-bfa8-10f7f988a328"
      },
      "source": [
        "# Calculate predictive performance (accuracy) for model 2 - random forest\n",
        "predictions2 = [1 if x > .5 else 0 for x in line]\n",
        "actuals2 = list(y_test)\n",
        "accuracy2 = []\n",
        "for pred, act in zip(predictions2, actuals2):\n",
        "  if pred == act:\n",
        "    accuracy2.append(1)\n",
        "  else:\n",
        "    accuracy2.append(0)\n",
        "sum(accuracy2) / len(accuracy2)\n",
        "print(\"Prediction accuracy for logistic regression without tweets is\", round(100*sum(accuracy2)/len(accuracy2),2), \"%\")"
      ],
      "execution_count": 11,
      "outputs": [
        {
          "output_type": "stream",
          "text": [
            "Prediction accuracy for logistic regression without tweets is 67.33 %\n"
          ],
          "name": "stdout"
        }
      ]
    }
  ]
}