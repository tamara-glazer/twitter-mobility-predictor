{
  "nbformat": 4,
  "nbformat_minor": 0,
  "metadata": {
    "colab": {
      "name": "text_nn_pipeline.ipynb",
      "provenance": [],
      "collapsed_sections": [],
      "toc_visible": true
    },
    "kernelspec": {
      "name": "python3",
      "display_name": "Python 3"
    },
    "accelerator": "GPU"
  },
  "cells": [
    {
      "cell_type": "markdown",
      "metadata": {
        "id": "6TA7i8d5zz3D",
        "colab_type": "text"
      },
      "source": [
        "## **Twitter Word Embeddings**"
      ]
    },
    {
      "cell_type": "markdown",
      "metadata": {
        "id": "RHK3st7U0EUO",
        "colab_type": "text"
      },
      "source": [
        "Import packages"
      ]
    },
    {
      "cell_type": "code",
      "metadata": {
        "id": "xLmb3UwfYO_7",
        "colab_type": "code",
        "outputId": "874bed7c-6ebe-42ee-fd96-434483d50b31",
        "colab": {
          "base_uri": "https://localhost:8080/",
          "height": 33
        }
      },
      "source": [
        "import pandas as pd\n",
        "import numpy as np\n",
        "import re\n",
        "import collections\n",
        "import matplotlib.pyplot as plt\n",
        "from pathlib import Path\n",
        "from sklearn.model_selection import train_test_split\n",
        "import nltk\n",
        "from nltk.corpus import stopwords\n",
        "from keras.preprocessing.text import Tokenizer\n",
        "from keras.preprocessing.sequence import pad_sequences\n",
        "from keras.utils.np_utils import to_categorical\n",
        "from sklearn.preprocessing import LabelEncoder\n",
        "from keras import models\n",
        "from keras import layers\n",
        "from numpy import array\n",
        "from numpy import asarray\n",
        "from numpy import zeros\n",
        "import tensorflow as tf"
      ],
      "execution_count": 2,
      "outputs": [
        {
          "output_type": "stream",
          "text": [
            "Using TensorFlow backend.\n"
          ],
          "name": "stderr"
        }
      ]
    },
    {
      "cell_type": "markdown",
      "metadata": {
        "id": "J0RbQGhP0Hjh",
        "colab_type": "text"
      },
      "source": [
        "Download stopwords from NLTK"
      ]
    },
    {
      "cell_type": "code",
      "metadata": {
        "id": "7CbQvL9GbusF",
        "colab_type": "code",
        "outputId": "417721ff-a942-4003-b5d1-9293391956b5",
        "colab": {
          "base_uri": "https://localhost:8080/",
          "height": 66
        }
      },
      "source": [
        "# Download stopwords\n",
        "nltk.download('stopwords')"
      ],
      "execution_count": 3,
      "outputs": [
        {
          "output_type": "stream",
          "text": [
            "[nltk_data] Downloading package stopwords to /root/nltk_data...\n",
            "[nltk_data]   Package stopwords is already up-to-date!\n"
          ],
          "name": "stdout"
        },
        {
          "output_type": "execute_result",
          "data": {
            "text/plain": [
              "True"
            ]
          },
          "metadata": {
            "tags": []
          },
          "execution_count": 3
        }
      ]
    },
    {
      "cell_type": "markdown",
      "metadata": {
        "id": "XwC2dqW11g33",
        "colab_type": "text"
      },
      "source": [
        "Set parameters"
      ]
    },
    {
      "cell_type": "code",
      "metadata": {
        "id": "ZYZEJlj0Y_kS",
        "colab_type": "code",
        "colab": {}
      },
      "source": [
        "NB_WORDS = 2500  # Number of words in dictionary\n",
        "NB_START_EPOCHS = 5  # Number of epochs\n",
        "BATCH_SIZE = 64  # Size of the batches used in the gradient descent\n",
        "MAX_LEN = 140  # Maximum number of words in a tweet\n",
        "NUM_EMBED = 100 # Number of embeddings\n",
        "NUM_TWEETS = 100\n",
        "\n",
        "#171296"
      ],
      "execution_count": 0,
      "outputs": []
    },
    {
      "cell_type": "markdown",
      "metadata": {
        "id": "mtQmr3hv4PVv",
        "colab_type": "text"
      },
      "source": [
        "Text cleaning functions"
      ]
    },
    {
      "cell_type": "code",
      "metadata": {
        "id": "O-PBWa7xan8r",
        "colab_type": "code",
        "colab": {}
      },
      "source": [
        "# CITATION: https://github.com/bertcarremans/TwitterUSAirlineSentiment/blob/master/source/Using%20Word%20Embeddings%20for%20Sentiment%20Analysis.ipynb\n",
        "\n",
        "# Function to remove stopwords\n",
        "def remove_stopwords(input_text):\n",
        "    '''\n",
        "    Function to remove English stopwords from a series.\n",
        "    \n",
        "    Input:\n",
        "        input_text : text to clean\n",
        "\n",
        "    Output:\n",
        "        cleaned Pandas Series \n",
        "    '''\n",
        "    stopwords_list = stopwords.words('english')\n",
        "    whitelist = [\"n't\", \"not\", \"no\"]\n",
        "    words = str(input_text).split() \n",
        "    clean_words = [word for word in words if (word not in stopwords_list or word\\\n",
        "                                              in whitelist) and len(word) > 1] \n",
        "    return \" \".join(clean_words) \n",
        "\n",
        "\n",
        "# Function to remove mentions (@)\n",
        "def remove_mentions(input_text):\n",
        "    '''\n",
        "    Function to remove mentions, preceded by @, in a pandas series.\n",
        "    \n",
        "    Input:\n",
        "        input_text : text to clean\n",
        "    \n",
        "    Output:\n",
        "        cleaned Pandas Series \n",
        "    '''\n",
        "    return re.sub(r'@\\w+', '', input_text)  "
      ],
      "execution_count": 0,
      "outputs": []
    },
    {
      "cell_type": "markdown",
      "metadata": {
        "id": "KHKdSIza4TI8",
        "colab_type": "text"
      },
      "source": [
        "Load tweets, shuffle, and clean"
      ]
    },
    {
      "cell_type": "code",
      "metadata": {
        "id": "3xMhYTB14Aay",
        "colab_type": "code",
        "colab": {
          "base_uri": "https://localhost:8080/",
          "height": 191
        },
        "outputId": "6dee832a-3614-4030-eae5-54442877323b"
      },
      "source": [
        "# Load tweets and shuffle by index, remove stopwords\n",
        "df = pd.read_csv('all_tweets.csv')\n",
        "df = df.reindex(np.random.permutation(df.index))\n",
        "df = df[['county', 'date', 'text']]\n",
        "df.head()"
      ],
      "execution_count": 6,
      "outputs": [
        {
          "output_type": "execute_result",
          "data": {
            "text/html": [
              "<div>\n",
              "<style scoped>\n",
              "    .dataframe tbody tr th:only-of-type {\n",
              "        vertical-align: middle;\n",
              "    }\n",
              "\n",
              "    .dataframe tbody tr th {\n",
              "        vertical-align: top;\n",
              "    }\n",
              "\n",
              "    .dataframe thead th {\n",
              "        text-align: right;\n",
              "    }\n",
              "</style>\n",
              "<table border=\"1\" class=\"dataframe\">\n",
              "  <thead>\n",
              "    <tr style=\"text-align: right;\">\n",
              "      <th></th>\n",
              "      <th>county</th>\n",
              "      <th>date</th>\n",
              "      <th>text</th>\n",
              "    </tr>\n",
              "  </thead>\n",
              "  <tbody>\n",
              "    <tr>\n",
              "      <th>90463</th>\n",
              "      <td>Lake</td>\n",
              "      <td>2020-05-31T17:36:17Z</td>\n",
              "      <td>We got a global pandemic, riots in every major...</td>\n",
              "    </tr>\n",
              "    <tr>\n",
              "      <th>116090</th>\n",
              "      <td>McDonough</td>\n",
              "      <td>2020-04-22T13:01:27Z</td>\n",
              "      <td>Jeter Adds Experience in First Recruiting Clas...</td>\n",
              "    </tr>\n",
              "    <tr>\n",
              "      <th>158324</th>\n",
              "      <td>Wayne</td>\n",
              "      <td>2020-05-20T07:49:05Z</td>\n",
              "      <td>Can you read?</td>\n",
              "    </tr>\n",
              "    <tr>\n",
              "      <th>32150</th>\n",
              "      <td>Cook</td>\n",
              "      <td>2020-06-06T18:45:59Z</td>\n",
              "      <td>Now tell us which group rarely suffers any con...</td>\n",
              "    </tr>\n",
              "    <tr>\n",
              "      <th>68020</th>\n",
              "      <td>Jasper</td>\n",
              "      <td>2020-03-04T01:18:34Z</td>\n",
              "      <td>This is what we like to hear</td>\n",
              "    </tr>\n",
              "  </tbody>\n",
              "</table>\n",
              "</div>"
            ],
            "text/plain": [
              "           county  ...                                               text\n",
              "90463        Lake  ...  We got a global pandemic, riots in every major...\n",
              "116090  McDonough  ...  Jeter Adds Experience in First Recruiting Clas...\n",
              "158324      Wayne  ...                                      Can you read?\n",
              "32150        Cook  ...  Now tell us which group rarely suffers any con...\n",
              "68020      Jasper  ...                       This is what we like to hear\n",
              "\n",
              "[5 rows x 3 columns]"
            ]
          },
          "metadata": {
            "tags": []
          },
          "execution_count": 6
        }
      ]
    },
    {
      "cell_type": "code",
      "metadata": {
        "id": "bHWMZACwJpyH",
        "colab_type": "code",
        "colab": {}
      },
      "source": [
        "df.text = df.text.apply(remove_stopwords).apply(remove_mentions)"
      ],
      "execution_count": 0,
      "outputs": []
    },
    {
      "cell_type": "code",
      "metadata": {
        "id": "XiYz5esAgs3G",
        "colab_type": "code",
        "outputId": "c5c112ff-dff3-4242-db02-3fa089052482",
        "colab": {
          "base_uri": "https://localhost:8080/",
          "height": 191
        }
      },
      "source": [
        "df.head()"
      ],
      "execution_count": 8,
      "outputs": [
        {
          "output_type": "execute_result",
          "data": {
            "text/html": [
              "<div>\n",
              "<style scoped>\n",
              "    .dataframe tbody tr th:only-of-type {\n",
              "        vertical-align: middle;\n",
              "    }\n",
              "\n",
              "    .dataframe tbody tr th {\n",
              "        vertical-align: top;\n",
              "    }\n",
              "\n",
              "    .dataframe thead th {\n",
              "        text-align: right;\n",
              "    }\n",
              "</style>\n",
              "<table border=\"1\" class=\"dataframe\">\n",
              "  <thead>\n",
              "    <tr style=\"text-align: right;\">\n",
              "      <th></th>\n",
              "      <th>county</th>\n",
              "      <th>date</th>\n",
              "      <th>text</th>\n",
              "    </tr>\n",
              "  </thead>\n",
              "  <tbody>\n",
              "    <tr>\n",
              "      <th>90463</th>\n",
              "      <td>Lake</td>\n",
              "      <td>2020-05-31T17:36:17Z</td>\n",
              "      <td>We got global pandemic, riots every major city...</td>\n",
              "    </tr>\n",
              "    <tr>\n",
              "      <th>116090</th>\n",
              "      <td>McDonough</td>\n",
              "      <td>2020-04-22T13:01:27Z</td>\n",
              "      <td>Jeter Adds Experience First Recruiting Class. ...</td>\n",
              "    </tr>\n",
              "    <tr>\n",
              "      <th>158324</th>\n",
              "      <td>Wayne</td>\n",
              "      <td>2020-05-20T07:49:05Z</td>\n",
              "      <td>Can read?</td>\n",
              "    </tr>\n",
              "    <tr>\n",
              "      <th>32150</th>\n",
              "      <td>Cook</td>\n",
              "      <td>2020-06-06T18:45:59Z</td>\n",
              "      <td>Now tell us group rarely suffers consequences so.</td>\n",
              "    </tr>\n",
              "    <tr>\n",
              "      <th>68020</th>\n",
              "      <td>Jasper</td>\n",
              "      <td>2020-03-04T01:18:34Z</td>\n",
              "      <td>This like hear</td>\n",
              "    </tr>\n",
              "  </tbody>\n",
              "</table>\n",
              "</div>"
            ],
            "text/plain": [
              "           county  ...                                               text\n",
              "90463        Lake  ...  We got global pandemic, riots every major city...\n",
              "116090  McDonough  ...  Jeter Adds Experience First Recruiting Class. ...\n",
              "158324      Wayne  ...                                          Can read?\n",
              "32150        Cook  ...  Now tell us group rarely suffers consequences so.\n",
              "68020      Jasper  ...                                     This like hear\n",
              "\n",
              "[5 rows x 3 columns]"
            ]
          },
          "metadata": {
            "tags": []
          },
          "execution_count": 8
        }
      ]
    },
    {
      "cell_type": "markdown",
      "metadata": {
        "id": "8Wm7JTz144Wc",
        "colab_type": "text"
      },
      "source": [
        "Tokenize, Set to Lowercase, Split on Spaces"
      ]
    },
    {
      "cell_type": "code",
      "metadata": {
        "id": "6JADAl2Tcnu_",
        "colab_type": "code",
        "colab": {}
      },
      "source": [
        "# Convert words to a sequence of integers (tokenizer)\n",
        "# Additionally, clean tweets, set to lowercase, split on spaces\n",
        "tk = Tokenizer(num_words=NB_WORDS, filters='!\"#$%&()*+,-./:;<=>?@[\\]^_`{\"}~\\t\\n', lower=True, split=\" \")\n",
        "tk.fit_on_texts(df.text)\n",
        "X_seq = tk.texts_to_sequences(df.text)"
      ],
      "execution_count": 0,
      "outputs": []
    },
    {
      "cell_type": "markdown",
      "metadata": {
        "id": "Aa6JOtI_5lfA",
        "colab_type": "text"
      },
      "source": [
        "Pad Sentences"
      ]
    },
    {
      "cell_type": "code",
      "metadata": {
        "id": "seQQetFGhL7h",
        "colab_type": "code",
        "colab": {}
      },
      "source": [
        "# Make sentences equal lengths using padding\n",
        "X_seq_trunc = pad_sequences(X_seq, maxlen=MAX_LEN)"
      ],
      "execution_count": 0,
      "outputs": []
    },
    {
      "cell_type": "markdown",
      "metadata": {
        "id": "mAMdzhKZfiep",
        "colab_type": "text"
      },
      "source": [
        "Import Glove File"
      ]
    },
    {
      "cell_type": "code",
      "metadata": {
        "id": "D4DEWC2Ad5pb",
        "colab_type": "code",
        "colab": {}
      },
      "source": [
        "embeddings_dictionary = dict()\n",
        "glove_file = open('glove.6B.100d.txt', encoding=\"utf8\")"
      ],
      "execution_count": 0,
      "outputs": []
    },
    {
      "cell_type": "markdown",
      "metadata": {
        "id": "ENDDb4cufqlD",
        "colab_type": "text"
      },
      "source": [
        "Create embedding dictionary"
      ]
    },
    {
      "cell_type": "code",
      "metadata": {
        "id": "26DoG1STeXuP",
        "colab_type": "code",
        "colab": {}
      },
      "source": [
        "# Word = key, 100 dim embedding vector = value\n",
        "for line in glove_file:\n",
        "    records = line.split()\n",
        "    word = records[0]\n",
        "    vector_dimensions = asarray(records[1:], dtype='float32')\n",
        "    embeddings_dictionary [word] = vector_dimensions\n",
        "\n",
        "glove_file.close()"
      ],
      "execution_count": 0,
      "outputs": []
    },
    {
      "cell_type": "markdown",
      "metadata": {
        "id": "M0NAbMiMCVei",
        "colab_type": "text"
      },
      "source": [
        "Create an embedding matrix (vocab size x 100)"
      ]
    },
    {
      "cell_type": "code",
      "metadata": {
        "id": "DrKGbixKe6Qh",
        "colab_type": "code",
        "colab": {}
      },
      "source": [
        "# Find vectors for each of the words\n",
        "embedding_matrix = zeros((NB_WORDS, NUM_EMBED))\n",
        "for word, index in tk.word_index.items():\n",
        "    if index < NB_WORDS:\n",
        "      embedding_vector = embeddings_dictionary.get(word)\n",
        "      if embedding_vector is not None:\n",
        "        embedding_matrix[index] = embedding_vector\n",
        "    else:\n",
        "      break"
      ],
      "execution_count": 0,
      "outputs": []
    },
    {
      "cell_type": "markdown",
      "metadata": {
        "id": "YInmNjXnDWeh",
        "colab_type": "text"
      },
      "source": [
        "Create an empty placeholder matrix"
      ]
    },
    {
      "cell_type": "code",
      "metadata": {
        "id": "SR0y6b_dtTD8",
        "colab_type": "code",
        "colab": {}
      },
      "source": [
        "placeholder = zeros((NB_WORDS, NUM_TWEETS, NUM_EMBED), dtype=object)"
      ],
      "execution_count": 0,
      "outputs": []
    },
    {
      "cell_type": "markdown",
      "metadata": {
        "id": "Qt0PSwU_Df8E",
        "colab_type": "text"
      },
      "source": [
        "Create final matrix: words x tweets x embeddings"
      ]
    },
    {
      "cell_type": "code",
      "metadata": {
        "id": "smRg66S4sesH",
        "colab_type": "code",
        "colab": {}
      },
      "source": [
        "reverse_lookup = {value: key for key, value in tk.word_index.items()}\n",
        "for i, tweet in enumerate(X_seq_trunc[:NUM_TWEETS]):\n",
        "  for j, word in enumerate(tweet):\n",
        "    if word == 0:\n",
        "      placeholder[j, i] = zeros(100)\n",
        "    else:\n",
        "      text = reverse_lookup[word]\n",
        "      if text not in embeddings_dictionary:\n",
        "        placeholder[j, i] = zeros(100)\n",
        "      else:\n",
        "        emb = embeddings_dictionary[text]\n",
        "        placeholder[j, i] = emb"
      ],
      "execution_count": 0,
      "outputs": []
    },
    {
      "cell_type": "code",
      "metadata": {
        "id": "HlXi3Cl1AC0W",
        "colab_type": "code",
        "colab": {}
      },
      "source": [
        "# Find the max value for each embedding across each tweet\n",
        "squash = placeholder.max(0)\n",
        "df_squash = pd.DataFrame(squash)\n",
        "stacked = pd.concat([df, df_squash], axis=1)\n",
        "stacked.head()"
      ],
      "execution_count": 0,
      "outputs": []
    },
    {
      "cell_type": "markdown",
      "metadata": {
        "id": "AvE7wOq3WBIg",
        "colab_type": "text"
      },
      "source": [
        "Find average embedding by county-date"
      ]
    },
    {
      "cell_type": "code",
      "metadata": {
        "id": "gqtJM4v-fbqP",
        "colab_type": "code",
        "colab": {}
      },
      "source": [
        "df_with_embeddings = stacked\n",
        "df_with_embeddings['date'] = pd.to_datetime(df_with_embeddings['date'])\n",
        "df_with_embeddings['just_date'] = df_with_embeddings['date'].dt.date \n",
        "df_with_embeddings['just_date'] = pd.to_datetime(df_with_embeddings['just_date'])\n",
        "\n",
        "cols = [] \n",
        "for i in range(100): \n",
        "    cols.append(i)\n",
        "    df_with_embeddings[i] = pd.to_numeric(df_with_embeddings[i])\n",
        "df_with_embeddings = df_with_embeddings.groupby(['county', 'just_date'])[cols].mean()"
      ],
      "execution_count": 0,
      "outputs": []
    },
    {
      "cell_type": "code",
      "metadata": {
        "id": "Lu0GTbs7Stg_",
        "colab_type": "code",
        "colab": {}
      },
      "source": [
        "df_with_embeddings = stacked\n",
        "df_with_embeddings['date'] = pd.to_datetime(df_with_embeddings['date'])\n",
        "df_with_embeddings['just_date'] = df_with_embeddings['date'].dt.date \n",
        "df_with_embeddings['just_date'] = pd.to_datetime(df_with_embeddings['just_date'])"
      ],
      "execution_count": 0,
      "outputs": []
    },
    {
      "cell_type": "code",
      "metadata": {
        "id": "6Ix40TGmSNFU",
        "colab_type": "code",
        "colab": {}
      },
      "source": [
        "df_with_embeddings.fillna(0, inplace=True)"
      ],
      "execution_count": 0,
      "outputs": []
    },
    {
      "cell_type": "code",
      "metadata": {
        "id": "3Bkx2AP8R_io",
        "colab_type": "code",
        "colab": {}
      },
      "source": [
        "df_with_embeddings['date'] = pd.to_datetime(df_with_embeddings['date'])\n",
        "df_with_embeddings['just_date'] = df_with_embeddings['date'].dt.date \n",
        "cols = [] \n",
        "for i in range(100): \n",
        "    cols.append(i)\n",
        "words = df_with_embeddings.groupby(['county', 'just_date'])[cols].mean()"
      ],
      "execution_count": 0,
      "outputs": []
    },
    {
      "cell_type": "markdown",
      "metadata": {
        "id": "T4FQ3sb1cq9g",
        "colab_type": "text"
      },
      "source": [
        "Merge 'words' with other indicators 'merged'"
      ]
    },
    {
      "cell_type": "code",
      "metadata": {
        "id": "zLrZbGadjw6J",
        "colab_type": "code",
        "colab": {}
      },
      "source": [
        "# Bring in other indicators\n",
        "merged = pd.read_csv('clean_merged_with_outcome.csv')\n",
        "merged = merged.iloc[:,1:]\n",
        "merged = merged.rename(columns={\"county.x\": \"county\", \"date\": \"just_date\"})\n",
        "merged = merged.drop(['grade_distance'], axis=1)"
      ],
      "execution_count": 0,
      "outputs": []
    },
    {
      "cell_type": "code",
      "metadata": {
        "id": "EZdW9oDW9W24",
        "colab_type": "code",
        "colab": {}
      },
      "source": [
        "words.reset_index(inplace=True)"
      ],
      "execution_count": 0,
      "outputs": []
    },
    {
      "cell_type": "code",
      "metadata": {
        "id": "YIrljSBE-UiT",
        "colab_type": "code",
        "colab": {}
      },
      "source": [
        "words['county'] = words['county'].astype(str)\n",
        "words['just_date'] = pd.to_datetime(words['just_date'], utc=True)"
      ],
      "execution_count": 0,
      "outputs": []
    },
    {
      "cell_type": "code",
      "metadata": {
        "id": "Q1khBvBD-XFM",
        "colab_type": "code",
        "colab": {}
      },
      "source": [
        "merged['county'] = merged['county'].astype(str)\n",
        "merged['just_date'] = pd.to_datetime(merged['just_date'], utc=True)"
      ],
      "execution_count": 0,
      "outputs": []
    },
    {
      "cell_type": "code",
      "metadata": {
        "id": "_bLQGKjFV-Au",
        "colab_type": "code",
        "colab": {}
      },
      "source": [
        "words['county'] = words['county'].astype(str) + ' County'"
      ],
      "execution_count": 0,
      "outputs": []
    },
    {
      "cell_type": "code",
      "metadata": {
        "id": "OYIqV3El9pTu",
        "colab_type": "code",
        "colab": {}
      },
      "source": [
        "final_df = pd.merge(words, merged, how = 'inner', left_on=['county','just_date'], right_on=['county','just_date'])"
      ],
      "execution_count": 0,
      "outputs": []
    },
    {
      "cell_type": "code",
      "metadata": {
        "id": "aXjbJMnQV39p",
        "colab_type": "code",
        "colab": {}
      },
      "source": [
        "final_df.fillna(0, inplace=True)"
      ],
      "execution_count": 0,
      "outputs": []
    },
    {
      "cell_type": "markdown",
      "metadata": {
        "id": "2cLAuiYW0OKJ",
        "colab_type": "text"
      },
      "source": [
        "Train Test Split\n",
        "\n",
        "\n"
      ]
    },
    {
      "cell_type": "code",
      "metadata": {
        "id": "e5Z30lAhC0Na",
        "colab_type": "code",
        "colab": {}
      },
      "source": [
        "train, test = train_test_split(final_df, test_size=0.1)"
      ],
      "execution_count": 0,
      "outputs": []
    },
    {
      "cell_type": "code",
      "metadata": {
        "id": "AzD-oh6wDotz",
        "colab_type": "code",
        "colab": {}
      },
      "source": [
        "# Train test split continued\n",
        "y_train = train[['outcome']]\n",
        "X_train = train.iloc[:,2:123]\n",
        "y_test = test[['outcome']]\n",
        "X_test = test.iloc[:,2:123]"
      ],
      "execution_count": 0,
      "outputs": []
    },
    {
      "cell_type": "code",
      "metadata": {
        "id": "GC3dnk_UnPUD",
        "colab_type": "code",
        "colab": {}
      },
      "source": [
        "dataset_test = tf.data.Dataset.from_tensor_slices((X_test.values, y_test.values))\n",
        "dataset_train = tf.data.Dataset.from_tensor_slices((X_train.values, y_train.values))"
      ],
      "execution_count": 0,
      "outputs": []
    },
    {
      "cell_type": "code",
      "metadata": {
        "id": "ehm99sdz65J5",
        "colab_type": "code",
        "colab": {}
      },
      "source": [
        "# for feat, targ in dataset_train.take(3):\n",
        "#   print ('Features: {}, Target: {}'.format(feat, targ))"
      ],
      "execution_count": 0,
      "outputs": []
    },
    {
      "cell_type": "code",
      "metadata": {
        "id": "ZnHIMbdwE_Ls",
        "colab_type": "code",
        "colab": {}
      },
      "source": [
        "# Citation: https://www.tensorflow.org/tutorials/load_data/pandas_dataframe"
      ],
      "execution_count": 0,
      "outputs": []
    },
    {
      "cell_type": "markdown",
      "metadata": {
        "id": "Mm4egWmV0c-R",
        "colab_type": "text"
      },
      "source": [
        "Run Final Neural Net!"
      ]
    },
    {
      "cell_type": "code",
      "metadata": {
        "id": "VCXoxRrfFeQc",
        "colab_type": "code",
        "colab": {}
      },
      "source": [
        "def get_compiled_model(embedding_dim, hidden_dim, out_dim):\n",
        "  model = tf.keras.Sequential([\n",
        "    tf.keras.layers.Dense(embedding_dim, activation='relu'),\n",
        "    tf.keras.layers.Dense(hidden_dim, activation='relu'),\n",
        "    tf.keras.layers.Dense(out_dim)\n",
        "  ])\n",
        "\n",
        "  model.compile(optimizer='adam',\n",
        "                loss='binary_crossentropy',\n",
        "                metrics=['accuracy'])\n",
        "  # tf.keras.metrics.Precision\n",
        "  return model"
      ],
      "execution_count": 0,
      "outputs": []
    },
    {
      "cell_type": "code",
      "metadata": {
        "id": "VqWkiU_zFiih",
        "colab_type": "code",
        "colab": {
          "base_uri": "https://localhost:8080/",
          "height": 313
        },
        "outputId": "fad575d3-9de6-4317-f657-caeee52b3f5b"
      },
      "source": [
        "# Compile and fit model\n",
        "model = get_compiled_model(121, 50, 1)\n",
        "model.fit(dataset_train, epochs=NB_START_EPOCHS)"
      ],
      "execution_count": 257,
      "outputs": [
        {
          "output_type": "stream",
          "text": [
            "Epoch 1/5\n",
            "WARNING:tensorflow:Layer dense_36 is casting an input tensor from dtype float64 to the layer's dtype of float32, which is new behavior in TensorFlow 2.  The layer has dtype float32 because it's dtype defaults to floatx.\n",
            "\n",
            "If you intended to run this layer in float32, you can safely ignore this warning. If in doubt, this warning is likely only an issue if you are porting a TensorFlow 1.X model to TensorFlow 2.\n",
            "\n",
            "To change all layers to have dtype float64 by default, call `tf.keras.backend.set_floatx('float64')`. To change just this layer, pass dtype='float64' to the layer constructor. If you are the author of this layer, you can disable autocasting by passing autocast=False to the base Layer constructor.\n",
            "\n",
            "4256/4256 [==============================] - 9s 2ms/step - loss: 2.2543 - accuracy: 0.8539\n",
            "Epoch 2/5\n",
            "4256/4256 [==============================] - 9s 2ms/step - loss: 2.2543 - accuracy: 0.8539\n",
            "Epoch 3/5\n",
            "4256/4256 [==============================] - 9s 2ms/step - loss: 2.2543 - accuracy: 0.8539\n",
            "Epoch 4/5\n",
            "4256/4256 [==============================] - 9s 2ms/step - loss: 2.2543 - accuracy: 0.8539\n",
            "Epoch 5/5\n",
            "4256/4256 [==============================] - 9s 2ms/step - loss: 2.2543 - accuracy: 0.8539\n"
          ],
          "name": "stdout"
        },
        {
          "output_type": "execute_result",
          "data": {
            "text/plain": [
              "<tensorflow.python.keras.callbacks.History at 0x7fe855524dd8>"
            ]
          },
          "metadata": {
            "tags": []
          },
          "execution_count": 257
        }
      ]
    },
    {
      "cell_type": "code",
      "metadata": {
        "id": "VOSwV1xYGBAH",
        "colab_type": "code",
        "colab": {
          "base_uri": "https://localhost:8080/",
          "height": 53
        },
        "outputId": "c9293e09-219d-4362-c484-31036e1c9f49"
      },
      "source": [
        "results = model.evaluate(dataset_test)"
      ],
      "execution_count": 246,
      "outputs": [
        {
          "output_type": "stream",
          "text": [
            "473/473 [==============================] - 1s 3ms/step - loss: 1.9240 - accuracy: 0.8753 - f1_m: 0.0000e+00 - precision_m: 0.0000e+00 - recall_m: 0.0000e+00\n"
          ],
          "name": "stdout"
        }
      ]
    },
    {
      "cell_type": "code",
      "metadata": {
        "id": "jsO4DiVJ3q4w",
        "colab_type": "code",
        "colab": {
          "base_uri": "https://localhost:8080/",
          "height": 33
        },
        "outputId": "34fd71c2-db67-47b6-d438-40460023abfd"
      },
      "source": [
        "print('Test accuracy of word embeddings model: {0:.2f}%'.format(results[1]*100))"
      ],
      "execution_count": 258,
      "outputs": [
        {
          "output_type": "stream",
          "text": [
            "Test accuracy of word embeddings model: 87.53%\n"
          ],
          "name": "stdout"
        }
      ]
    },
    {
      "cell_type": "markdown",
      "metadata": {
        "id": "PvcsMEtTb17D",
        "colab_type": "text"
      },
      "source": [
        "############################################################"
      ]
    },
    {
      "cell_type": "markdown",
      "metadata": {
        "id": "-faNvnYI7YHt",
        "colab_type": "text"
      },
      "source": [
        "### Appendix - Custom Embeddings\n",
        "\n",
        "Set up neural net"
      ]
    },
    {
      "cell_type": "code",
      "metadata": {
        "id": "xYxXbrXW4XLI",
        "colab_type": "code",
        "outputId": "bdf9d2c7-69af-4272-9f3d-c88c2e749456",
        "colab": {
          "base_uri": "https://localhost:8080/",
          "height": 33
        }
      },
      "source": [
        "np.array(train_x).shape"
      ],
      "execution_count": 0,
      "outputs": [
        {
          "output_type": "execute_result",
          "data": {
            "text/plain": [
              "(250, 10)"
            ]
          },
          "metadata": {
            "tags": []
          },
          "execution_count": 404
        }
      ]
    },
    {
      "cell_type": "code",
      "metadata": {
        "id": "ejvc0s9i1Mn_",
        "colab_type": "code",
        "colab": {}
      },
      "source": [
        "from keras.models import Sequential\n",
        "from keras.layers import Dense, Dropout, Activation\n",
        "\n",
        "model = Sequential()\n",
        "model.add(Dense(5, input_dim=10, activation='relu'))\n",
        "model.add(Dropout(0.5))\n",
        "model.add(Dense(2, activation='sigmoid'))\n",
        "model.add(Dropout(0.5))\n",
        "model.add(Dense(1, activation='softmax'))"
      ],
      "execution_count": 0,
      "outputs": []
    },
    {
      "cell_type": "code",
      "metadata": {
        "id": "BJqoPcQLoEhI",
        "colab_type": "code",
        "colab": {}
      },
      "source": [
        "# Helper function\n",
        "def train_test_model(model, X_train, y_train, X_test, y_test):\n",
        "    '''\n",
        "    Function to train a multi-class model.\n",
        "    \n",
        "    Input:\n",
        "        model : model with the chosen architecture\n",
        "        X_train : training features\n",
        "        y_train : training target\n",
        "        X_valid : validation features\n",
        "        Y_valid : validation target\n",
        "    \n",
        "    Output:\n",
        "        model training history\n",
        "    '''\n",
        "    model.compile(optimizer='adam'\n",
        "                  , loss='categorical_crossentropy'\n",
        "                  , metrics=['accuracy'])\n",
        "    \n",
        "    model.fit(X_train\n",
        "              , y_train\n",
        "              , epochs=NB_START_EPOCHS\n",
        "              , batch_size=BATCH_SIZE\n",
        "              , validation_data=0.1\n",
        "              , verbose=0)\n",
        "    \n",
        "    results = model.evaluate(X_test, y_test)\n",
        "    \n",
        "    return results"
      ],
      "execution_count": 0,
      "outputs": []
    },
    {
      "cell_type": "code",
      "metadata": {
        "id": "3Q6h8blU1fO0",
        "colab_type": "code",
        "colab": {}
      },
      "source": [
        "history = deep_model(model, np.array(train_x), np.array(train_y))"
      ],
      "execution_count": 0,
      "outputs": []
    },
    {
      "cell_type": "markdown",
      "metadata": {
        "id": "oALVCaZC7lfW",
        "colab_type": "text"
      },
      "source": [
        "Train word embeddings with 100 dimensions"
      ]
    },
    {
      "cell_type": "code",
      "metadata": {
        "id": "mYa15e3EnzUm",
        "colab_type": "code",
        "outputId": "fcc77558-624d-42cc-f5ec-dd1a78d06ab2",
        "colab": {
          "base_uri": "https://localhost:8080/",
          "height": 245
        }
      },
      "source": [
        "emb_model = models.Sequential()\n",
        "emb_model.add(layers.Embedding(NB_WORDS, 100, input_length=MAX_LEN))\n",
        "emb_model.add(layers.Flatten())\n",
        "emb_model.add(layers.Dense(2, activation='softmax'))\n",
        "emb_model.summary()"
      ],
      "execution_count": 0,
      "outputs": [
        {
          "output_type": "stream",
          "text": [
            "Model: \"sequential_6\"\n",
            "_________________________________________________________________\n",
            "Layer (type)                 Output Shape              Param #   \n",
            "=================================================================\n",
            "embedding_6 (Embedding)      (None, 300, 100)          2500000   \n",
            "_________________________________________________________________\n",
            "flatten_6 (Flatten)          (None, 30000)             0         \n",
            "_________________________________________________________________\n",
            "dense_6 (Dense)              (None, 2)                 60002     \n",
            "=================================================================\n",
            "Total params: 2,560,002\n",
            "Trainable params: 2,560,002\n",
            "Non-trainable params: 0\n",
            "_________________________________________________________________\n"
          ],
          "name": "stdout"
        }
      ]
    },
    {
      "cell_type": "code",
      "metadata": {
        "id": "WooxVAh3ycxg",
        "colab_type": "code",
        "colab": {}
      },
      "source": [
        "embeddings = emb_model.layers[0].get_weights()[0]"
      ],
      "execution_count": 0,
      "outputs": []
    },
    {
      "cell_type": "code",
      "metadata": {
        "id": "lN6zQLTDpRit",
        "colab_type": "code",
        "colab": {}
      },
      "source": [
        "# Embeddings\n",
        "emb_history = deep_model(emb_model, X_train_emb, y_train_emb, X_valid_emb, y_valid_emb)\n",
        "emb_history.history"
      ],
      "execution_count": 0,
      "outputs": []
    },
    {
      "cell_type": "markdown",
      "metadata": {
        "id": "qQD9zQgC9JhP",
        "colab_type": "text"
      },
      "source": [
        "Evaluate trained embedding model"
      ]
    },
    {
      "cell_type": "code",
      "metadata": {
        "id": "ZF5uo-F4uWaz",
        "colab_type": "code",
        "colab": {}
      },
      "source": [
        "#Evaluate trained model on metric\n",
        "def eval_metric(history, metric_name):\n",
        "    '''\n",
        "    Function to evaluate a trained model on a chosen metric. \n",
        "    Training and validation metric are plotted in a\n",
        "    line chart for each epoch.\n",
        "    \n",
        "    Input:\n",
        "        history : model training history\n",
        "        metric_name : loss or accuracy\n",
        "    \n",
        "    Output:\n",
        "        line chart with epochs of x-axis and metric on\n",
        "        y-axis\n",
        "    '''\n",
        "    metric = history.history[metric_name]\n",
        "    val_metric = history.history['val_' + metric_name]\n",
        "\n",
        "    e = range(1, NB_START_EPOCHS + 1)\n",
        "\n",
        "    plt.plot(e, metric, 'bo', label='Train ' + metric_name)\n",
        "    plt.plot(e, val_metric, 'b', label='Validation ' + metric_name)\n",
        "    plt.legend()\n",
        "    plt.show()"
      ],
      "execution_count": 0,
      "outputs": []
    },
    {
      "cell_type": "code",
      "metadata": {
        "id": "TqGFNYKKuQmT",
        "colab_type": "code",
        "outputId": "3a6f32ce-7697-4404-9309-7fcd7e2ef457",
        "colab": {
          "base_uri": "https://localhost:8080/",
          "height": 265
        }
      },
      "source": [
        "eval_metric(emb_history, 'accuracy')"
      ],
      "execution_count": 0,
      "outputs": [
        {
          "output_type": "display_data",
          "data": {
            "image/png": "[encoded data removed]",
            "text/plain": [
              "<Figure size 432x288 with 1 Axes>"
            ]
          },
          "metadata": {
            "tags": [],
            "needs_background": "light"
          }
        }
      ]
    },
    {
      "cell_type": "code",
      "metadata": {
        "id": "YiPUj_DZuuNa",
        "colab_type": "code",
        "outputId": "84584b4e-5959-4058-a06c-a7381b1227df",
        "colab": {
          "base_uri": "https://localhost:8080/",
          "height": 265
        }
      },
      "source": [
        "eval_metric(emb_history, 'loss')"
      ],
      "execution_count": 0,
      "outputs": [
        {
          "output_type": "display_data",
          "data": {
            "image/png": "[encoded data removed]",
            "text/plain": [
              "<Figure size 432x288 with 1 Axes>"
            ]
          },
          "metadata": {
            "tags": [],
            "needs_background": "light"
          }
        }
      ]
    },
    {
      "cell_type": "markdown",
      "metadata": {
        "id": "NpiRVuNM9XiY",
        "colab_type": "text"
      },
      "source": [
        "Test embeddings on the testing data"
      ]
    },
    {
      "cell_type": "code",
      "metadata": {
        "id": "HxZrDOD5vNy-",
        "colab_type": "code",
        "colab": {}
      },
      "source": [
        "def test_model(model, X_train, y_train, X_test, y_test, epoch_stop):\n",
        "    '''\n",
        "    Function to test the model on new data after training it\n",
        "    on the full training data with the optimal number of epochs.\n",
        "    \n",
        "    Parameters:\n",
        "        model : trained model\n",
        "        X_train : training features\n",
        "        y_train : training target\n",
        "        X_test : test features\n",
        "        y_test : test target\n",
        "        epochs : optimal number of epochs\n",
        "    Output:\n",
        "        test accuracy and test loss\n",
        "    '''\n",
        "    model.fit(X_train\n",
        "              , y_train\n",
        "              , epochs=epoch_stop\n",
        "              , batch_size=BATCH_SIZE\n",
        "              , verbose=0)\n",
        "    results = model.evaluate(X_test, y_test)\n",
        "    \n",
        "    return results"
      ],
      "execution_count": 0,
      "outputs": []
    },
    {
      "cell_type": "code",
      "metadata": {
        "id": "hoaHgiy-uzYk",
        "colab_type": "code",
        "outputId": "e234c19d-60f4-4e51-850a-10ad2ef2e193",
        "colab": {
          "base_uri": "https://localhost:8080/",
          "height": 66
        }
      },
      "source": [
        "emb_results = test_model(emb_model, X_train_seq_trunc, y_train_oh, X_test_seq_trunc, y_test_oh, 6)\n",
        "print('/n')\n",
        "print('Test accuracy of word embeddings model: {0:.2f}%'.format(emb_results[1]*100))"
      ],
      "execution_count": 0,
      "outputs": [
        {
          "output_type": "stream",
          "text": [
            "50/50 [==============================] - 0s 100us/step\n",
            "/n\n",
            "Test accuracy of word embeddings model: 92.00%\n"
          ],
          "name": "stdout"
        }
      ]
    },
    {
      "cell_type": "markdown",
      "metadata": {
        "id": "Lkn2cPAe96e8",
        "colab_type": "text"
      },
      "source": [
        "Extract a matrix of size tweets x embeddings"
      ]
    },
    {
      "cell_type": "code",
      "metadata": {
        "id": "EMp_gZvJ-uxh",
        "colab_type": "code",
        "colab": {}
      },
      "source": [
        "embeddings = emb_model.layers[0].get_weights()[0]"
      ],
      "execution_count": 0,
      "outputs": []
    }
  ]
}