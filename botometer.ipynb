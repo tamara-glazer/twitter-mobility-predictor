{
 "cells": [
  {
   "cell_type": "code",
   "execution_count": 37,
   "metadata": {},
   "outputs": [],
   "source": [
    "import requests, json, numpy, datetime\n",
    "import pywren\n",
    "import boto3\n",
    "import numpy as np\n",
    "import botometer\n",
    "import pandas as pd\n",
    "import botometer_creds as creds\n"
   ]
  },
  {
   "cell_type": "code",
   "execution_count": 39,
   "metadata": {},
   "outputs": [],
   "source": [
    "'''\n",
    "Creates the botometer object used to inspect twitter accounts. \n",
    "'''\n",
    "bot = botometer.Botometer(wait_on_ratelimit=True,\n",
    "                          rapidapi_key=creds.RAPIDAPI_KEY,\n",
    "                          **creds.TWITTER_APP_AUTH)"
   ]
  },
  {
   "cell_type": "code",
   "execution_count": 40,
   "metadata": {},
   "outputs": [],
   "source": [
    "accounts = ['@clayadavis', '@onurvarol', '@dscovr_epic', '@drvox', '@Nextgov']"
   ]
  },
  {
   "cell_type": "code",
   "execution_count": 41,
   "metadata": {},
   "outputs": [
    {
     "name": "stdout",
     "output_type": "stream",
     "text": [
      "CPU times: user 1.25 s, sys: 184 ms, total: 1.43 s\n",
      "Wall time: 18.1 s\n"
     ]
    }
   ],
   "source": [
    "%%time\n",
    "\n",
    "pwex = pywren.default_executor()\n",
    "futures = pwex.map(bot.check_account, accounts)\n",
    "all_bot_scores = pywren.get_all_results(futures)"
   ]
  },
  {
   "cell_type": "code",
   "execution_count": 42,
   "metadata": {},
   "outputs": [
    {
     "data": {
      "text/plain": [
       "[{'cap': {'english': 0.004268306222830912, 'universal': 0.005778300973814037},\n",
       "  'categories': {'content': 0.17800952303063913,\n",
       "   'friend': 0.10612616098731911,\n",
       "   'network': 0.07473755397913713,\n",
       "   'sentiment': 0.21601031401999074,\n",
       "   'temporal': 0.34186854357920926,\n",
       "   'user': 0.05042452964186063},\n",
       "  'display_scores': {'content': 0.9,\n",
       "   'english': 0.5,\n",
       "   'friend': 0.5,\n",
       "   'network': 0.4,\n",
       "   'sentiment': 1.1,\n",
       "   'temporal': 1.7,\n",
       "   'universal': 0.6,\n",
       "   'user': 0.3},\n",
       "  'scores': {'english': 0.10827700665723966, 'universal': 0.11956986651967942},\n",
       "  'user': {'id_str': '1548959833', 'screen_name': 'clayadavis'}},\n",
       " {'cap': {'english': 0.004775575529426348, 'universal': 0.021041094138717433},\n",
       "  'categories': {'content': 0.4839136138086953,\n",
       "   'friend': 0.16863713142666406,\n",
       "   'network': 0.15895834190828398,\n",
       "   'sentiment': 0.20494668795721943,\n",
       "   'temporal': 0.15332301110829857,\n",
       "   'user': 0.08970732338544227},\n",
       "  'display_scores': {'content': 2.4,\n",
       "   'english': 0.6,\n",
       "   'friend': 0.8,\n",
       "   'network': 0.8,\n",
       "   'sentiment': 1.0,\n",
       "   'temporal': 0.8,\n",
       "   'universal': 1.3,\n",
       "   'user': 0.4},\n",
       "  'scores': {'english': 0.1167953743919475, 'universal': 0.25152334764543},\n",
       "  'user': {'id_str': '77436536', 'screen_name': 'onurvarol'}},\n",
       " {'cap': {'english': 0.016566752245969804, 'universal': 0.021041094138717433},\n",
       "  'categories': {'content': 0.4839136138086953,\n",
       "   'friend': 0.19869669732913162,\n",
       "   'network': 0.5085472613356273,\n",
       "   'sentiment': 0.6400171193730103,\n",
       "   'temporal': 0.37028306775020287,\n",
       "   'user': 0.1649843520988115},\n",
       "  'display_scores': {'content': 2.4,\n",
       "   'english': 1.2,\n",
       "   'friend': 1.0,\n",
       "   'network': 2.5,\n",
       "   'sentiment': 3.2,\n",
       "   'temporal': 1.9,\n",
       "   'universal': 1.3,\n",
       "   'user': 0.8},\n",
       "  'scores': {'english': 0.23688377651035014, 'universal': 0.25152334764543},\n",
       "  'user': {'id_str': '4010618585', 'screen_name': 'dscovr_epic'}},\n",
       " {'cap': {'english': 0.0014187924969112314, 'universal': 0.003940623559956331},\n",
       "  'categories': {'content': 0.07537533685491266,\n",
       "   'friend': 0.12674184134165853,\n",
       "   'network': 0.07473755397913713,\n",
       "   'sentiment': 0.1169582905663787,\n",
       "   'temporal': 0.06669571356978159,\n",
       "   'user': 0.06746010743931873},\n",
       "  'display_scores': {'content': 0.4,\n",
       "   'english': 0.2,\n",
       "   'friend': 0.6,\n",
       "   'network': 0.4,\n",
       "   'sentiment': 0.6,\n",
       "   'temporal': 0.3,\n",
       "   'universal': 0.4,\n",
       "   'user': 0.3},\n",
       "  'scores': {'english': 0.03265990956683609, 'universal': 0.08899515596679244},\n",
       "  'user': {'id_str': '22737278', 'screen_name': 'drvox'}},\n",
       " {'cap': {'english': 0.032183220269696264, 'universal': 0.038677030425236264},\n",
       "  'categories': {'content': 0.653282836412424,\n",
       "   'friend': 0.2447797639495201,\n",
       "   'network': 0.08358138135822211,\n",
       "   'sentiment': 0.14739293447148413,\n",
       "   'temporal': 0.12382203350771001,\n",
       "   'user': 0.13546586015102946},\n",
       "  'display_scores': {'content': 3.3,\n",
       "   'english': 1.6,\n",
       "   'friend': 1.2,\n",
       "   'network': 0.4,\n",
       "   'sentiment': 0.7,\n",
       "   'temporal': 0.6,\n",
       "   'universal': 1.7,\n",
       "   'user': 0.7},\n",
       "  'scores': {'english': 0.32230602190830704, 'universal': 0.33655519548719853},\n",
       "  'user': {'id_str': '17197344', 'screen_name': 'Nextgov'}}]"
      ]
     },
     "execution_count": 42,
     "metadata": {},
     "output_type": "execute_result"
    }
   ],
   "source": [
    "all_bot_scores"
   ]
  },
  {
   "cell_type": "code",
   "execution_count": 25,
   "metadata": {},
   "outputs": [],
   "source": [
    "def classify_account(dictionary):\n",
    "    '''\n",
    "    Given a dictionary that represents the botometer output, this function creates a binary\n",
    "        variable indicating wheter or not the account is a bot based on a pre-determined\n",
    "        threshold. \n",
    "    '''\n",
    "    \n",
    "    user_info = dictionary['user']\n",
    "    name = user_info['screen_name']\n",
    "    score = dictionary['scores']['english']\n",
    "    bot = 0\n",
    "    if score >= .29:\n",
    "        bot += 1\n",
    "    \n",
    "    return {'account_name': name, 'bot': bot}\n",
    "    \n",
    "    "
   ]
  },
  {
   "cell_type": "code",
   "execution_count": 31,
   "metadata": {},
   "outputs": [
    {
     "name": "stdout",
     "output_type": "stream",
     "text": [
      "CPU times: user 1.09 s, sys: 150 ms, total: 1.24 s\n",
      "Wall time: 21.1 s\n"
     ]
    }
   ],
   "source": [
    "%%time\n",
    "\n",
    "pwex = pywren.default_executor()\n",
    "futures = pwex.map(classify_account, all_bot_scores)\n",
    "bot_or_not = pywren.get_all_results(futures)"
   ]
  },
  {
   "cell_type": "code",
   "execution_count": 32,
   "metadata": {},
   "outputs": [
    {
     "data": {
      "text/plain": [
       "[{'account_name': 'clayadavis', 'bot': 0},\n",
       " {'account_name': 'onurvarol', 'bot': 0},\n",
       " {'account_name': 'dscovr_epic', 'bot': 0},\n",
       " {'account_name': 'drvox', 'bot': 0},\n",
       " {'account_name': 'Nextgov', 'bot': 1}]"
      ]
     },
     "execution_count": 32,
     "metadata": {},
     "output_type": "execute_result"
    }
   ],
   "source": [
    "bot_or_not"
   ]
  },
  {
   "cell_type": "code",
   "execution_count": 34,
   "metadata": {},
   "outputs": [
    {
     "data": {
      "text/html": [
       "<div>\n",
       "<style scoped>\n",
       "    .dataframe tbody tr th:only-of-type {\n",
       "        vertical-align: middle;\n",
       "    }\n",
       "\n",
       "    .dataframe tbody tr th {\n",
       "        vertical-align: top;\n",
       "    }\n",
       "\n",
       "    .dataframe thead th {\n",
       "        text-align: right;\n",
       "    }\n",
       "</style>\n",
       "<table border=\"1\" class=\"dataframe\">\n",
       "  <thead>\n",
       "    <tr style=\"text-align: right;\">\n",
       "      <th></th>\n",
       "      <th>account_name</th>\n",
       "      <th>bot</th>\n",
       "    </tr>\n",
       "  </thead>\n",
       "  <tbody>\n",
       "    <tr>\n",
       "      <th>0</th>\n",
       "      <td>clayadavis</td>\n",
       "      <td>0</td>\n",
       "    </tr>\n",
       "    <tr>\n",
       "      <th>1</th>\n",
       "      <td>onurvarol</td>\n",
       "      <td>0</td>\n",
       "    </tr>\n",
       "    <tr>\n",
       "      <th>2</th>\n",
       "      <td>dscovr_epic</td>\n",
       "      <td>0</td>\n",
       "    </tr>\n",
       "    <tr>\n",
       "      <th>3</th>\n",
       "      <td>drvox</td>\n",
       "      <td>0</td>\n",
       "    </tr>\n",
       "    <tr>\n",
       "      <th>4</th>\n",
       "      <td>Nextgov</td>\n",
       "      <td>1</td>\n",
       "    </tr>\n",
       "  </tbody>\n",
       "</table>\n",
       "</div>"
      ],
      "text/plain": [
       "  account_name  bot\n",
       "0   clayadavis    0\n",
       "1    onurvarol    0\n",
       "2  dscovr_epic    0\n",
       "3        drvox    0\n",
       "4      Nextgov    1"
      ]
     },
     "execution_count": 34,
     "metadata": {},
     "output_type": "execute_result"
    }
   ],
   "source": [
    "pd.DataFrame(bot_or_not)"
   ]
  },
  {
   "cell_type": "code",
   "execution_count": null,
   "metadata": {},
   "outputs": [],
   "source": []
  }
 ],
 "metadata": {
  "hide_input": false,
  "kernelspec": {
   "display_name": "Python 3",
   "language": "python",
   "name": "python3"
  },
  "language_info": {
   "codemirror_mode": {
    "name": "ipython",
    "version": 3
   },
   "file_extension": ".py",
   "mimetype": "text/x-python",
   "name": "python",
   "nbconvert_exporter": "python",
   "pygments_lexer": "ipython3",
   "version": "3.7.4"
  }
 },
 "nbformat": 4,
 "nbformat_minor": 4
}
